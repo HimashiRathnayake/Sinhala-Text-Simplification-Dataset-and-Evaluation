{
  "cells": [
    {
      "cell_type": "markdown",
      "source": [
        "# **Generate text simplifications using fine-tuned mT5 model**"
      ],
      "metadata": {
        "id": "q4BtVYZuZUl2"
      },
      "id": "q4BtVYZuZUl2"
    },
    {
      "cell_type": "markdown",
      "id": "26caa44c",
      "metadata": {
        "id": "26caa44c",
        "papermill": {
          "duration": 0.007273,
          "end_time": "2022-01-11T11:09:39.202170",
          "exception": false,
          "start_time": "2022-01-11T11:09:39.194897",
          "status": "completed"
        },
        "tags": []
      },
      "source": [
        "## Import Git repo and install libraries"
      ]
    },
    {
      "cell_type": "code",
      "execution_count": null,
      "id": "9d07a66f",
      "metadata": {
        "execution": {
          "iopub.execute_input": "2022-01-11T11:09:39.221984Z",
          "iopub.status.busy": "2022-01-11T11:09:39.220223Z",
          "iopub.status.idle": "2022-01-11T11:10:47.350358Z",
          "shell.execute_reply": "2022-01-11T11:10:47.349275Z",
          "shell.execute_reply.started": "2022-01-08T12:51:11.749976Z"
        },
        "papermill": {
          "duration": 68.141587,
          "end_time": "2022-01-11T11:10:47.350577",
          "exception": false,
          "start_time": "2022-01-11T11:09:39.208990",
          "status": "completed"
        },
        "tags": [],
        "colab": {
          "base_uri": "https://localhost:8080/"
        },
        "id": "9d07a66f",
        "outputId": "f2e1e1d5-4fb4-49c0-b31e-f80b4c63f56f"
      },
      "outputs": [
        {
          "output_type": "stream",
          "name": "stdout",
          "text": [
            "Cloning into 'mt5-simplification'...\n",
            "remote: Enumerating objects: 282, done.\u001b[K\n",
            "remote: Total 282 (delta 0), reused 0 (delta 0), pack-reused 282\u001b[K\n",
            "Receiving objects: 100% (282/282), 729.81 KiB | 2.28 MiB/s, done.\n",
            "Resolving deltas: 100% (168/168), done.\n",
            "Cloning into 'transformers'...\n",
            "remote: Enumerating objects: 102756, done.\u001b[K\n",
            "remote: Counting objects: 100% (641/641), done.\u001b[K\n",
            "remote: Compressing objects: 100% (245/245), done.\u001b[K\n",
            "remote: Total 102756 (delta 389), reused 471 (delta 323), pack-reused 102115\u001b[K\n",
            "Receiving objects: 100% (102756/102756), 96.01 MiB | 20.79 MiB/s, done.\n",
            "Resolving deltas: 100% (75797/75797), done.\n",
            "  Installing build dependencies ... \u001b[?25l\u001b[?25hdone\n",
            "  Getting requirements to build wheel ... \u001b[?25l\u001b[?25hdone\n",
            "    Preparing wheel metadata ... \u001b[?25l\u001b[?25hdone\n",
            "\u001b[K     |████████████████████████████████| 6.6 MB 10.0 MB/s \n",
            "\u001b[K     |████████████████████████████████| 101 kB 11.3 MB/s \n",
            "\u001b[K     |████████████████████████████████| 596 kB 47.6 MB/s \n",
            "\u001b[K     |████████████████████████████████| 298 kB 7.4 MB/s \n",
            "\u001b[K     |████████████████████████████████| 54 kB 2.8 MB/s \n",
            "\u001b[K     |████████████████████████████████| 1.2 MB 48.3 MB/s \n",
            "\u001b[K     |████████████████████████████████| 123 kB 42.2 MB/s \n",
            "\u001b[K     |████████████████████████████████| 65 kB 3.7 MB/s \n",
            "\u001b[K     |████████████████████████████████| 141 kB 54.4 MB/s \n",
            "\u001b[K     |████████████████████████████████| 212 kB 47.7 MB/s \n",
            "\u001b[K     |████████████████████████████████| 17.1 MB 272 kB/s \n",
            "\u001b[K     |████████████████████████████████| 2.3 MB 36.7 MB/s \n",
            "\u001b[K     |████████████████████████████████| 50 kB 5.8 MB/s \n",
            "\u001b[K     |████████████████████████████████| 2.4 MB 51.4 MB/s \n",
            "\u001b[K     |████████████████████████████████| 138 kB 59.4 MB/s \n",
            "\u001b[K     |████████████████████████████████| 94 kB 3.4 MB/s \n",
            "\u001b[K     |████████████████████████████████| 357 kB 64.8 MB/s \n",
            "\u001b[?25h"
          ]
        }
      ],
      "source": [
        "!git clone https://github.com/rumeshmadhusanka/mt5-simplification.git\n",
        "!git clone https://github.com/huggingface/transformers.git\n",
        "! cd transformers && \\\n",
        "pip install --editable ./ -q\n",
        "!pip install gdown datasets==1.16.1 sacrebleu==1.4.12 sentencepiece==0.1.96 protobuf accelerate py7zr -q"
      ]
    },
    {
      "cell_type": "code",
      "execution_count": null,
      "id": "7604ed46",
      "metadata": {
        "execution": {
          "iopub.execute_input": "2022-01-11T11:10:47.434009Z",
          "iopub.status.busy": "2022-01-11T11:10:47.433339Z",
          "iopub.status.idle": "2022-01-11T11:11:19.254400Z",
          "shell.execute_reply": "2022-01-11T11:11:19.253453Z",
          "shell.execute_reply.started": "2022-01-08T12:52:19.833505Z"
        },
        "papermill": {
          "duration": 31.867967,
          "end_time": "2022-01-11T11:11:19.254584",
          "exception": false,
          "start_time": "2022-01-11T11:10:47.386617",
          "status": "completed"
        },
        "tags": [],
        "colab": {
          "base_uri": "https://localhost:8080/"
        },
        "id": "7604ed46",
        "outputId": "14a6a9f5-7596-4a92-d7e5-a2c06557bf67"
      },
      "outputs": [
        {
          "output_type": "stream",
          "name": "stdout",
          "text": [
            "\u001b[K     |████████████████████████████████| 1.5 MB 7.8 MB/s \n",
            "\u001b[K     |████████████████████████████████| 76 kB 1.8 MB/s \n",
            "\u001b[K     |████████████████████████████████| 20.1 MB 1.4 MB/s \n",
            "\u001b[?25h  Building wheel for nltk (setup.py) ... \u001b[?25l\u001b[?25hdone\n",
            "  Building wheel for rouge-score (setup.py) ... \u001b[?25l\u001b[?25hdone\n",
            "\u001b[31mERROR: pip's dependency resolver does not currently take into account all the packages that are installed. This behaviour is the source of the following dependency conflicts.\n",
            "xarray-einstats 0.2.2 requires numpy>=1.21, but you have numpy 1.18.5 which is incompatible.\n",
            "tensorflow 2.8.2+zzzcolab20220719082949 requires numpy>=1.20, but you have numpy 1.18.5 which is incompatible.\n",
            "tables 3.7.0 requires numpy>=1.19.0, but you have numpy 1.18.5 which is incompatible.\n",
            "jaxlib 0.3.14+cuda11.cudnn805 requires numpy>=1.19, but you have numpy 1.18.5 which is incompatible.\n",
            "jax 0.3.14 requires numpy>=1.19, but you have numpy 1.18.5 which is incompatible.\n",
            "datascience 0.10.6 requires folium==0.2.1, but you have folium 0.8.3 which is incompatible.\n",
            "cmdstanpy 1.0.4 requires numpy>=1.21, but you have numpy 1.18.5 which is incompatible.\n",
            "albumentations 0.1.12 requires imgaug<0.2.7,>=0.2.5, but you have imgaug 0.2.9 which is incompatible.\u001b[0m\n",
            "\u001b[K     |████████████████████████████████| 1.8 MB 7.8 MB/s \n",
            "\u001b[K     |████████████████████████████████| 156 kB 45.5 MB/s \n",
            "\u001b[K     |████████████████████████████████| 181 kB 40.5 MB/s \n",
            "\u001b[K     |████████████████████████████████| 63 kB 1.8 MB/s \n",
            "\u001b[?25h  Building wheel for pathtools (setup.py) ... \u001b[?25l\u001b[?25hdone\n",
            "\u001b[34m\u001b[1mwandb\u001b[0m: Appending key for api.wandb.ai to your netrc file: /root/.netrc\n"
          ]
        }
      ],
      "source": [
        "!pip install -r mt5-simplification/requirements.txt -q\n",
        "!pip install gdown wandb -q\n",
        "!wandb login 05f8f12ea26899b0e6d9398182dc1f217c345e08"
      ]
    },
    {
      "cell_type": "code",
      "execution_count": null,
      "id": "9de91593",
      "metadata": {
        "execution": {
          "iopub.execute_input": "2022-01-11T11:11:19.333821Z",
          "iopub.status.busy": "2022-01-11T11:11:19.333144Z",
          "iopub.status.idle": "2022-01-11T11:15:09.147934Z",
          "shell.execute_reply": "2022-01-11T11:15:09.147387Z",
          "shell.execute_reply.started": "2022-01-08T12:53:25.500941Z"
        },
        "papermill": {
          "duration": 229.856226,
          "end_time": "2022-01-11T11:15:09.148109",
          "exception": false,
          "start_time": "2022-01-11T11:11:19.291883",
          "status": "completed"
        },
        "tags": [],
        "colab": {
          "base_uri": "https://localhost:8080/"
        },
        "id": "9de91593",
        "outputId": "c93fa3c8-0b52-484c-d825-36d5d636e20b"
      },
      "outputs": [
        {
          "output_type": "stream",
          "name": "stdout",
          "text": [
            "  % Total    % Received % Xferd  Average Speed   Time    Time     Time  Current\n",
            "                                 Dload  Upload   Total   Spent    Left  Speed\n",
            "  0     0    0     0    0     0      0      0 --:--:-- --:--:-- --:--:--     0\n"
          ]
        }
      ],
      "source": [
        "!curl -JLO 'https://www.kaggleusercontent.com/kf/84776298/eyJhbGciOiJkaXIiLCJlbmMiOiJBMTI4Q0JDLUhTMjU2In0..wDfyFT43RBjdiOZarG1yRQ.IY0-bFCX68_XiCrpwHq_WLYYPYrGH99VpLukqaf3k0beDzMZ9jsuK3XSIAZKt3nZiNqZTawJHkRDjhEKwRZ2eXMdkIRks6TZ-lajPDRSs3fNSJpcSeRZdZno0BBLZXKX-53oDPiN0-PKBRT4kDrzg_vMKkx3Gh3SQjINgl2x6XKzKuJvoYDVJu95xJ7G3_YV5XXfrvtO2HhaeZHFjTe9FhDHVX6nnrXkXJimKetwCJHEnSpM7nxFArDQR5JZTTsMYRQuI43cxehAJAPg1ouroaePQdwjUa21Lh7MsCYkqi5UjNtfZ6aV2RFqF924ZvoIAxTbdRmTMJLSkSYJDNDhnK_az_xh8RjEVA-7Md6Z0GcpZuAUmMGUgdkWp6U1VDeAsvmIP_TO5WD-MeIjEl82EK_y0fMGEViDKGkpQdqQ2dDU3TeBTdGAm26LY6UVxvZx0EwZzErbC9zjo4yXz0pE_QiRHeYiqiUQMMoXIa6AgyfaRb7TTeU3Ev3G5mG9jNRRkCi19YHMOKeqA1gP6NqPe0fPEpTgP_BaKfiqxe4jBe4EP4gae_JxB8-Yv9vwuVMinPFpxYB47-nCvWeMJr3oTjXV1kgRGnnIZXCabPixhur1M3XMPu2o6gUlfXbLHrLC1Ow1E9lE0X52rhzzvG5YSBwnWonLy2KIipA3RMHrbLg.NfHVAtay-7IM3S1PXA3BOQ/data.zip'"
      ]
    },
    {
      "cell_type": "code",
      "execution_count": null,
      "id": "3ec8b780",
      "metadata": {
        "execution": {
          "iopub.execute_input": "2022-01-11T11:15:09.341483Z",
          "iopub.status.busy": "2022-01-11T11:15:09.338390Z",
          "iopub.status.idle": "2022-01-11T11:15:42.421546Z",
          "shell.execute_reply": "2022-01-11T11:15:42.420741Z",
          "shell.execute_reply.started": "2022-01-08T12:56:49.012867Z"
        },
        "papermill": {
          "duration": 33.181652,
          "end_time": "2022-01-11T11:15:42.421779",
          "exception": false,
          "start_time": "2022-01-11T11:15:09.240127",
          "status": "completed"
        },
        "tags": [],
        "colab": {
          "base_uri": "https://localhost:8080/"
        },
        "id": "3ec8b780",
        "outputId": "a2af0151-be7e-4a27-a284-dad3fcf5d5a0"
      },
      "outputs": [
        {
          "output_type": "stream",
          "name": "stdout",
          "text": [
            "Archive:  data.zip\n",
            "  End-of-central-directory signature not found.  Either this file is not\n",
            "  a zipfile, or it constitutes one disk of a multi-part archive.  In the\n",
            "  latter case the central directory and zipfile comment will be found on\n",
            "  the last disk(s) of this archive.\n",
            "unzip:  cannot find zipfile directory in one of data.zip or\n",
            "        data.zip.zip, and cannot find data.zip.ZIP, period.\n"
          ]
        }
      ],
      "source": [
        "!unzip data.zip"
      ]
    },
    {
      "cell_type": "code",
      "execution_count": null,
      "id": "2a04398b",
      "metadata": {
        "execution": {
          "iopub.execute_input": "2022-01-11T11:15:42.678833Z",
          "iopub.status.busy": "2022-01-11T11:15:42.677777Z",
          "iopub.status.idle": "2022-01-11T11:15:49.257922Z",
          "shell.execute_reply": "2022-01-11T11:15:49.258978Z",
          "shell.execute_reply.started": "2022-01-08T12:56:49.673417Z"
        },
        "papermill": {
          "duration": 6.706395,
          "end_time": "2022-01-11T11:15:49.259169",
          "exception": false,
          "start_time": "2022-01-11T11:15:42.552774",
          "status": "completed"
        },
        "tags": [],
        "colab": {
          "base_uri": "https://localhost:8080/"
        },
        "id": "2a04398b",
        "outputId": "482258f4-3c3f-4594-b5ab-ce3aa8789feb"
      },
      "outputs": [
        {
          "output_type": "stream",
          "name": "stdout",
          "text": [
            "/usr/local/lib/python3.7/dist-packages/gdown/cli.py:131: FutureWarning: Option `--id` was deprecated in version 4.3.1 and will be removed in 5.0. You don't need to pass it anymore to use a file ID.\n",
            "  category=FutureWarning,\n",
            "Downloading...\n",
            "From: https://drive.google.com/uc?id=1Vm26F4mAU97K7y41ADpmyjvcwhSRvVfE\n",
            "To: /content/newsela-splitted-sineval.tar.gz\n",
            "100% 6.75M/6.75M [00:00<00:00, 29.8MB/s]\n"
          ]
        }
      ],
      "source": [
        "!gdown --id 1Vm26F4mAU97K7y41ADpmyjvcwhSRvVfE\n",
        "!tar xf newsela-splitted-sineval.tar.gz\n",
        "!rm newsela-splitted-sineval.tar.gz"
      ]
    },
    {
      "cell_type": "code",
      "execution_count": null,
      "id": "553f0854",
      "metadata": {
        "execution": {
          "iopub.execute_input": "2022-01-11T11:16:10.834767Z",
          "iopub.status.busy": "2022-01-11T11:16:10.833896Z",
          "iopub.status.idle": "2022-01-11T15:18:01.719032Z",
          "shell.execute_reply": "2022-01-11T15:18:01.717798Z",
          "shell.execute_reply.started": "2022-01-08T13:05:00.950502Z"
        },
        "papermill": {
          "duration": 14512.385945,
          "end_time": "2022-01-11T15:18:01.719583",
          "exception": false,
          "start_time": "2022-01-11T11:16:09.333638",
          "status": "completed"
        },
        "tags": [],
        "colab": {
          "base_uri": "https://localhost:8080/"
        },
        "id": "553f0854",
        "outputId": "cb658fce-43fa-4b49-b863-7cc28d6c585a"
      },
      "outputs": [
        {
          "output_type": "stream",
          "name": "stdout",
          "text": [
            "Traceback (most recent call last):\n",
            "  File \"mt5-simplification/prediction.py\", line 1, in <module>\n",
            "    from transformers import MT5ForConditionalGeneration, T5Tokenizer\n",
            "ModuleNotFoundError: No module named 'transformers'\n"
          ]
        }
      ],
      "source": [
        "task=\"en-si\"\n",
        "output_dir=\"simplification-en/checkpoint-69792\"\n",
        "# model_path=\"google/mt5-base\"\n",
        "!python mt5-simplification/prediction.py \\\n",
        "    newsela-splitted-sineval/test.complex \\\n",
        "    --model-path $output_dir \\\n",
        "    --max_length 700 \\\n",
        "    --output $output_dir/prediction.txt \\\n",
        "    --count 1000 \\\n",
        "    --verbosity h \\\n",
        "    --task $task \\\n",
        "    --topk 50 \\\n",
        "    --topp 0.95 \\\n",
        "    --num_beams 5"
      ]
    },
    {
      "cell_type": "code",
      "execution_count": null,
      "id": "99b52342",
      "metadata": {
        "execution": {
          "iopub.execute_input": "2022-01-11T15:18:01.946141Z",
          "iopub.status.busy": "2022-01-11T15:18:01.945068Z",
          "iopub.status.idle": "2022-01-11T15:18:02.765267Z",
          "shell.execute_reply": "2022-01-11T15:18:02.764728Z",
          "shell.execute_reply.started": "2022-01-08T13:05:02.742199Z"
        },
        "papermill": {
          "duration": 0.933071,
          "end_time": "2022-01-11T15:18:02.765416",
          "exception": false,
          "start_time": "2022-01-11T15:18:01.832345",
          "status": "completed"
        },
        "tags": [],
        "colab": {
          "base_uri": "https://localhost:8080/"
        },
        "id": "99b52342",
        "outputId": "30c5b031-31b0-431e-8059-4252d8a8dbba"
      },
      "outputs": [
        {
          "output_type": "stream",
          "name": "stdout",
          "text": [
            "head: cannot open 'simplification-en/checkpoint-69792/prediction.txt' for reading: No such file or directory\n"
          ]
        }
      ],
      "source": [
        "!head $output_dir/prediction.txt"
      ]
    },
    {
      "cell_type": "code",
      "execution_count": null,
      "id": "fc870ef4",
      "metadata": {
        "papermill": {
          "duration": 0.093203,
          "end_time": "2022-01-11T15:18:02.953283",
          "exception": false,
          "start_time": "2022-01-11T15:18:02.860080",
          "status": "completed"
        },
        "tags": [],
        "id": "fc870ef4"
      },
      "outputs": [],
      "source": []
    }
  ],
  "metadata": {
    "kernelspec": {
      "display_name": "Python 3",
      "language": "python",
      "name": "python3"
    },
    "language_info": {
      "codemirror_mode": {
        "name": "ipython",
        "version": 3
      },
      "file_extension": ".py",
      "mimetype": "text/x-python",
      "name": "python",
      "nbconvert_exporter": "python",
      "pygments_lexer": "ipython3",
      "version": "3.7.12"
    },
    "papermill": {
      "default_parameters": {},
      "duration": 14913.680639,
      "end_time": "2022-01-11T15:18:03.888690",
      "environment_variables": {},
      "exception": null,
      "input_path": "__notebook__.ipynb",
      "output_path": "__notebook__.ipynb",
      "parameters": {},
      "start_time": "2022-01-11T11:09:30.208051",
      "version": "2.3.3"
    },
    "colab": {
      "provenance": []
    }
  },
  "nbformat": 4,
  "nbformat_minor": 5
}