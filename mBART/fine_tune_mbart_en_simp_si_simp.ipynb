{
  "nbformat": 4,
  "nbformat_minor": 0,
  "metadata": {
    "accelerator": "GPU",
    "colab": {
      "provenance": [],
      "machine_shape": "hm",
      "include_colab_link": true
    },
    "kernelspec": {
      "display_name": "Python 3",
      "name": "python3"
    },
    "language_info": {
      "name": "python"
    }
  },
  "cells": [
    {
      "cell_type": "markdown",
      "source": [
        "# **mBART fine tuning for English and Sinhala text simplification**"
      ],
      "metadata": {
        "id": "mdrzaPmSVKKM"
      }
    },
    {
      "cell_type": "code",
      "metadata": {
        "colab": {
          "base_uri": "https://localhost:8080/"
        },
        "id": "gqxUGRTlzzRL",
        "outputId": "5b46993b-6ecd-47cc-d390-23bd0ec06d76"
      },
      "source": [
        "from google.colab import drive\n",
        "drive.mount('/content/drive')"
      ],
      "execution_count": null,
      "outputs": [
        {
          "output_type": "stream",
          "name": "stdout",
          "text": [
            "Mounted at /content/drive\n"
          ]
        }
      ]
    },
    {
      "cell_type": "markdown",
      "metadata": {
        "id": "y7Xc8Cswq9hB"
      },
      "source": [
        "## Check GPU"
      ]
    },
    {
      "cell_type": "code",
      "metadata": {
        "colab": {
          "base_uri": "https://localhost:8080/"
        },
        "id": "rcI7Rd38rBoJ",
        "outputId": "79a20a71-8a34-4ee5-e22b-653229d2dd5d"
      },
      "source": [
        "!nvidia-smi"
      ],
      "execution_count": null,
      "outputs": [
        {
          "output_type": "stream",
          "name": "stdout",
          "text": [
            "Sat Nov 20 03:32:19 2021       \n",
            "+-----------------------------------------------------------------------------+\n",
            "| NVIDIA-SMI 495.44       Driver Version: 460.32.03    CUDA Version: 11.2     |\n",
            "|-------------------------------+----------------------+----------------------+\n",
            "| GPU  Name        Persistence-M| Bus-Id        Disp.A | Volatile Uncorr. ECC |\n",
            "| Fan  Temp  Perf  Pwr:Usage/Cap|         Memory-Usage | GPU-Util  Compute M. |\n",
            "|                               |                      |               MIG M. |\n",
            "|===============================+======================+======================|\n",
            "|   0  Tesla P100-PCIE...  Off  | 00000000:00:04.0 Off |                    0 |\n",
            "| N/A   41C    P0    28W / 250W |      0MiB / 16280MiB |      0%      Default |\n",
            "|                               |                      |                  N/A |\n",
            "+-------------------------------+----------------------+----------------------+\n",
            "                                                                               \n",
            "+-----------------------------------------------------------------------------+\n",
            "| Processes:                                                                  |\n",
            "|  GPU   GI   CI        PID   Type   Process name                  GPU Memory |\n",
            "|        ID   ID                                                   Usage      |\n",
            "|=============================================================================|\n",
            "|  No running processes found                                                 |\n",
            "+-----------------------------------------------------------------------------+\n"
          ]
        }
      ]
    },
    {
      "cell_type": "markdown",
      "metadata": {
        "id": "Fg2BfbTorJao"
      },
      "source": [
        "## Install Libraries"
      ]
    },
    {
      "cell_type": "code",
      "metadata": {
        "colab": {
          "base_uri": "https://localhost:8080/"
        },
        "id": "y2WFuzkWrKlX",
        "outputId": "0cdc7d65-978d-4dd5-bbca-e69cd17e97f4"
      },
      "source": [
        "!wget https://github.com/pytorch/fairseq/archive/refs/tags/v0.10.2.tar.gz && \\\n",
        "tar -xf v0.10.2.tar.gz && \\\n",
        "cd fairseq-0.10.2 && \\\n",
        "pip install --editable ./ -q\n",
        "!pip install fastBPE sacremoses subword_nmt sentencepiece -q"
      ],
      "execution_count": null,
      "outputs": [
        {
          "output_type": "stream",
          "name": "stdout",
          "text": [
            "--2021-11-20 03:32:24--  https://github.com/pytorch/fairseq/archive/refs/tags/v0.10.2.tar.gz\n",
            "Resolving github.com (github.com)... 140.82.112.3\n",
            "Connecting to github.com (github.com)|140.82.112.3|:443... connected.\n",
            "HTTP request sent, awaiting response... 302 Found\n",
            "Location: https://codeload.github.com/pytorch/fairseq/tar.gz/refs/tags/v0.10.2 [following]\n",
            "--2021-11-20 03:32:24--  https://codeload.github.com/pytorch/fairseq/tar.gz/refs/tags/v0.10.2\n",
            "Resolving codeload.github.com (codeload.github.com)... 140.82.114.9\n",
            "Connecting to codeload.github.com (codeload.github.com)|140.82.114.9|:443... connected.\n",
            "HTTP request sent, awaiting response... 200 OK\n",
            "Length: unspecified [application/x-gzip]\n",
            "Saving to: ‘v0.10.2.tar.gz’\n",
            "\n",
            "v0.10.2.tar.gz          [  <=>               ]   2.94M  14.5MB/s    in 0.2s    \n",
            "\n",
            "2021-11-20 03:32:24 (14.5 MB/s) - ‘v0.10.2.tar.gz’ saved [3088040]\n",
            "\n",
            "  Installing build dependencies ... \u001b[?25l\u001b[?25hdone\n",
            "  Getting requirements to build wheel ... \u001b[?25l\u001b[?25hdone\n",
            "  Installing backend dependencies ... \u001b[?25l\u001b[?25hdone\n",
            "    Preparing wheel metadata ... \u001b[?25l\u001b[?25hdone\n",
            "\u001b[K     |████████████████████████████████| 145 kB 5.1 MB/s \n",
            "\u001b[K     |████████████████████████████████| 90 kB 8.9 MB/s \n",
            "\u001b[K     |████████████████████████████████| 74 kB 3.2 MB/s \n",
            "\u001b[K     |████████████████████████████████| 112 kB 29.7 MB/s \n",
            "\u001b[K     |████████████████████████████████| 596 kB 30.0 MB/s \n",
            "\u001b[?25h  Building wheel for antlr4-python3-runtime (setup.py) ... \u001b[?25l\u001b[?25hdone\n",
            "\u001b[K     |████████████████████████████████| 895 kB 8.2 MB/s \n",
            "\u001b[K     |████████████████████████████████| 1.2 MB 33.9 MB/s \n",
            "\u001b[?25h  Building wheel for fastBPE (setup.py) ... \u001b[?25l\u001b[?25hdone\n"
          ]
        }
      ]
    },
    {
      "cell_type": "markdown",
      "metadata": {
        "id": "m8N24VGcrfXZ"
      },
      "source": [
        "## Import mBart-50 model"
      ]
    },
    {
      "cell_type": "code",
      "metadata": {
        "colab": {
          "base_uri": "https://localhost:8080/"
        },
        "id": "tuIoskxD0fA0",
        "outputId": "6535371a-d4e9-4eb3-dc89-3ef3b2c9a0b2"
      },
      "source": [
        "!wget https://dl.fbaipublicfiles.com/fairseq/models/mbart50/mbart50.pretrained.tar.gz\n",
        "!tar -xzvf mbart50.pretrained.tar.gz"
      ],
      "execution_count": null,
      "outputs": [
        {
          "output_type": "stream",
          "name": "stdout",
          "text": [
            "--2021-11-20 03:33:54--  https://dl.fbaipublicfiles.com/fairseq/models/mbart50/mbart50.pretrained.tar.gz\n",
            "Resolving dl.fbaipublicfiles.com (dl.fbaipublicfiles.com)... 104.22.75.142, 104.22.74.142, 172.67.9.4, ...\n",
            "Connecting to dl.fbaipublicfiles.com (dl.fbaipublicfiles.com)|104.22.75.142|:443... connected.\n",
            "HTTP request sent, awaiting response... 200 OK\n",
            "Length: 7199950118 (6.7G) [application/gzip]\n",
            "Saving to: ‘mbart50.pretrained.tar.gz’\n",
            "\n",
            "mbart50.pretrained. 100%[===================>]   6.71G  21.0MB/s    in 5m 27s  \n",
            "\n",
            "2021-11-20 03:39:22 (21.0 MB/s) - ‘mbart50.pretrained.tar.gz’ saved [7199950118/7199950118]\n",
            "\n",
            "mbart50.pretrained/\n",
            "mbart50.pretrained/sentence.bpe.model\n",
            "mbart50.pretrained/dict.af_ZA.txt\n",
            "mbart50.pretrained/dict.ar_AR.txt\n",
            "mbart50.pretrained/dict.az_AZ.txt\n",
            "mbart50.pretrained/dict.bn_IN.txt\n",
            "mbart50.pretrained/dict.cs_CZ.txt\n",
            "mbart50.pretrained/dict.de_DE.txt\n",
            "mbart50.pretrained/dict.en_XX.txt\n",
            "mbart50.pretrained/dict.es_XX.txt\n",
            "mbart50.pretrained/dict.et_EE.txt\n",
            "mbart50.pretrained/dict.fa_IR.txt\n",
            "mbart50.pretrained/dict.fi_FI.txt\n",
            "mbart50.pretrained/dict.fr_XX.txt\n",
            "mbart50.pretrained/dict.gl_ES.txt\n",
            "mbart50.pretrained/dict.gu_IN.txt\n",
            "mbart50.pretrained/dict.he_IL.txt\n",
            "mbart50.pretrained/dict.hi_IN.txt\n",
            "mbart50.pretrained/dict.hr_HR.txt\n",
            "mbart50.pretrained/dict.id_ID.txt\n",
            "mbart50.pretrained/dict.it_IT.txt\n",
            "mbart50.pretrained/dict.iu_CA.txt\n",
            "mbart50.pretrained/dict.ja_JP.txt\n",
            "mbart50.pretrained/dict.ja_XX.txt\n",
            "mbart50.pretrained/dict.ka_GE.txt\n",
            "mbart50.pretrained/dict.kk_KZ.txt\n",
            "mbart50.pretrained/dict.km_KH.txt\n",
            "mbart50.pretrained/dict.ko_KR.txt\n",
            "mbart50.pretrained/dict.lt_LT.txt\n",
            "mbart50.pretrained/dict.lv_LV.txt\n",
            "mbart50.pretrained/dict.mk_MK.txt\n",
            "mbart50.pretrained/dict.ml_IN.txt\n",
            "mbart50.pretrained/dict.mn_MN.txt\n",
            "mbart50.pretrained/dict.mr_IN.txt\n",
            "mbart50.pretrained/dict.my_MM.txt\n",
            "mbart50.pretrained/dict.ne_NP.txt\n",
            "mbart50.pretrained/dict.nl_XX.txt\n",
            "mbart50.pretrained/dict.pl_PL.txt\n",
            "mbart50.pretrained/dict.ps_AF.txt\n",
            "mbart50.pretrained/dict.pt_XX.txt\n",
            "mbart50.pretrained/dict.ro_RO.txt\n",
            "mbart50.pretrained/dict.ru_RU.txt\n",
            "mbart50.pretrained/dict.si_LK.txt\n",
            "mbart50.pretrained/dict.sl_SI.txt\n",
            "mbart50.pretrained/dict.sv_SE.txt\n",
            "mbart50.pretrained/dict.ta_IN.txt\n",
            "mbart50.pretrained/dict.te_IN.txt\n",
            "mbart50.pretrained/dict.th_TH.txt\n",
            "mbart50.pretrained/dict.tr_TR.txt\n",
            "mbart50.pretrained/dict.uk_UA.txt\n",
            "mbart50.pretrained/dict.ur_PK.txt\n",
            "mbart50.pretrained/dict.vi_VN.txt\n",
            "mbart50.pretrained/dict.xh_ZA.txt\n",
            "mbart50.pretrained/dict.zh_CN.txt\n",
            "mbart50.pretrained/model.pt\n",
            "mbart50.pretrained/ML50_langs.txt\n"
          ]
        }
      ]
    },
    {
      "cell_type": "markdown",
      "metadata": {
        "id": "FZnIe1_52Slx"
      },
      "source": [
        "## **En - Simplification**"
      ]
    },
    {
      "cell_type": "markdown",
      "metadata": {
        "id": "c8REC3E72fKj"
      },
      "source": [
        "### Import simplification data"
      ]
    },
    {
      "cell_type": "code",
      "metadata": {
        "colab": {
          "base_uri": "https://localhost:8080/"
        },
        "id": "FVlG2sBR2h8W",
        "outputId": "72d8d08d-7b74-4755-b697-f2119344907a"
      },
      "source": [
        "!rm -f download\n",
        "!wget https://dms.uom.lk/s/QfsPWZ3zLZ59bAD/download\n",
        "!unzip download\n",
        "!rm -f download"
      ],
      "execution_count": null,
      "outputs": [
        {
          "output_type": "stream",
          "name": "stdout",
          "text": [
            "--2021-11-18 06:50:23--  https://dms.uom.lk/s/QfsPWZ3zLZ59bAD/download\n",
            "Resolving dms.uom.lk (dms.uom.lk)... 192.248.8.71, 2401:dd00:10:1::71\n",
            "Connecting to dms.uom.lk (dms.uom.lk)|192.248.8.71|:443... connected.\n",
            "HTTP request sent, awaiting response... 200 OK\n",
            "Length: unspecified [application/zip]\n",
            "Saving to: ‘download’\n",
            "\n",
            "download                [              <=>   ]  31.19M  9.20MB/s    in 3.4s    \n",
            "\n",
            "2021-11-18 06:50:28 (9.20 MB/s) - ‘download’ saved [32702413]\n",
            "\n",
            "Archive:  download\n",
            "   creating: newsela-en/\n",
            " extracting: newsela-en/train.complex  \n",
            " extracting: newsela-en/train.simple  \n",
            " extracting: newsela-en/valid.complex  \n",
            " extracting: newsela-en/valid.simple  \n"
          ]
        }
      ]
    },
    {
      "cell_type": "code",
      "metadata": {
        "colab": {
          "base_uri": "https://localhost:8080/"
        },
        "id": "qpYjUUG0rWg9",
        "outputId": "fd2f4171-a952-4c75-d88d-0cf6b2eed9ba"
      },
      "source": [
        "!rm -f download\n",
        "!wget https://dms.uom.lk/s/DmjSWj8Zs3FzrCi/download\n",
        "!unzip download\n",
        "!rm -f download"
      ],
      "execution_count": null,
      "outputs": [
        {
          "output_type": "stream",
          "name": "stdout",
          "text": [
            "--2021-11-18 06:50:29--  https://dms.uom.lk/s/DmjSWj8Zs3FzrCi/download\n",
            "Resolving dms.uom.lk (dms.uom.lk)... 192.248.8.71, 2401:dd00:10:1::71\n",
            "Connecting to dms.uom.lk (dms.uom.lk)|192.248.8.71|:443... connected.\n",
            "HTTP request sent, awaiting response... 200 OK\n",
            "Length: unspecified [application/zip]\n",
            "Saving to: ‘download’\n",
            "\n",
            "download                [    <=>             ] 418.63K   666KB/s    in 0.6s    \n",
            "\n",
            "2021-11-18 06:50:31 (666 KB/s) - ‘download’ saved [428680]\n",
            "\n",
            "Archive:  download\n",
            "   creating: asset/\n",
            " extracting: asset/asset.valid.orig  \n",
            " extracting: asset/asset.valid.simp.0  \n"
          ]
        }
      ]
    },
    {
      "cell_type": "code",
      "metadata": {
        "id": "aM8VE1oB2ozL"
      },
      "source": [
        "!mkdir drive/Shareddrives/SiTS/mBart-Finetune/new-experiments drive/Shareddrives/SiTS/mBart-Finetune/new-experiments/model8 drive/Shareddrives/SiTS/mBart-Finetune/new-experiments/model8/en-sm drive/Shareddrives/SiTS/mBart-Finetune/new-experiments/model8/en-sm/spm drive/Shareddrives/SiTS/mBart-Finetune/new-experiments/model8/en-sm/preprocess\n",
        "!python fairseq-0.10.2/scripts/spm_encode.py \\\n",
        "  --model mbart50.pretrained/sentence.bpe.model \\\n",
        "  --inputs newsela-en/train.simple newsela-en/train.complex \\\n",
        "  --outputs drive/Shareddrives/SiTS/mBart-Finetune/new-experiments/model8/en-sm/spm/train.bpe.simple drive/Shareddrives/SiTS/mBart-Finetune/new-experiments/model8/en-sm/spm/train.bpe.complex\n",
        "\n",
        "!python fairseq-0.10.2/scripts/spm_encode.py \\\n",
        "    --model mbart50.pretrained/sentence.bpe.model \\\n",
        "    --inputs newsela-en/valid.simple newsela-en/valid.complex \\\n",
        "    --outputs drive/Shareddrives/SiTS/mBart-Finetune/new-experiments/model8/en-sm/spm/valid.bpe.simple drive/Shareddrives/SiTS/mBart-Finetune/new-experiments/model8/en-sm/spm/valid.bpe.complex\n",
        "\n",
        "!python fairseq-0.10.2/scripts/spm_encode.py \\\n",
        "    --model mbart50.pretrained/sentence.bpe.model \\\n",
        "    --inputs asset/asset.valid.simp.0 asset/asset.valid.orig \\\n",
        "    --outputs drive/Shareddrives/SiTS/mBart-Finetune/new-experiments/model8/en-sm/spm/test.bpe.simple drive/Shareddrives/SiTS/mBart-Finetune/new-experiments/model8/en-sm/spm/test.bpe.complex\n",
        "\n",
        "DICT_s=\"mbart50.pretrained/dict.en_XX.txt\"\n",
        "\n",
        "!fairseq-preprocess \\\n",
        "  --source-lang complex \\\n",
        "  --target-lang simple \\\n",
        "  --trainpref drive/Shareddrives/SiTS/mBart-Finetune/new-experiments/model8/en-sm/spm/train.bpe \\\n",
        "  --validpref drive/Shareddrives/SiTS/mBart-Finetune/new-experiments/model8/en-sm/spm/valid.bpe \\\n",
        "  --testpref drive/Shareddrives/SiTS/mBart-Finetune/new-experiments/model8/en-sm/spm/test.bpe \\\n",
        "  --destdir drive/Shareddrives/SiTS/mBart-Finetune/new-experiments/model8/en-sm/preprocess \\\n",
        "  --srcdict $DICT_s \\\n",
        "  --joined-dictionary \\\n",
        "  --thresholdtgt 0 \\\n",
        "  --thresholdsrc 0 \\\n",
        "  --workers 70"
      ],
      "execution_count": null,
      "outputs": []
    },
    {
      "cell_type": "markdown",
      "metadata": {
        "id": "XBWLRvD33TPt"
      },
      "source": [
        "### Start training"
      ]
    },
    {
      "cell_type": "code",
      "metadata": {
        "id": "cxFcKmxc3V0y"
      },
      "source": [
        "path_2_data=\"drive/Shareddrives/SiTS/mBart-Finetune/new-experiments/model8/en-sm/preprocess\"\n",
        "# pretrained_model=\"mbart50.pretrained/model.pt\"\n",
        "pretrained_model = \"drive/Shareddrives/SiTS/mBart-Finetune/pretrained-translation-model/checkpoints/checkpoint_best.pt\"\n",
        "!fairseq-train $path_2_data \\\n",
        "  --restore-file $pretrained_model \\\n",
        "  --encoder-normalize-before --decoder-normalize-before \\\n",
        "  --arch mbart_large --layernorm-embedding \\\n",
        "  --task translation_from_pretrained_bart \\\n",
        "  --langs \"ar_AR,cs_CZ,de_DE,en_XX,es_XX,et_EE,fi_FI,fr_XX,gu_IN,hi_IN,it_IT,ja_XX,kk_KZ,ko_KR,lt_LT,lv_LV,my_MM,ne_NP,nl_XX,ro_RO,ru_RU,si_LK,tr_TR,vi_VN,zh_CN,af_ZA,az_AZ,bn_IN,fa_IR,he_IL,hr_HR,id_ID,ka_GE,km_KH,mk_MK,ml_IN,mn_MN,mr_IN,pl_PL,ps_AF,pt_XX,sv_SE,sw_KE,ta_IN,te_IN,th_TH,tl_XX,uk_UA,ur_PK,xh_ZA,gl_ES,sl_SI\" \\\n",
        "  --source-lang complex --target-lang simple \\\n",
        "  --memory-efficient-fp16 \\\n",
        "  --criterion label_smoothed_cross_entropy --label-smoothing 0.2 \\\n",
        "  --optimizer adam --adam-eps 1e-06 --adam-betas '(0.9, 0.98)' \\\n",
        "  --lr-scheduler inverse_sqrt --lr 3e-05 --warmup-updates 2500 --max-update 20000 \\\n",
        "  --dropout 0.3 --attention-dropout 0.1 --weight-decay 0.0 \\\n",
        "  --max-tokens 1024 --update-freq 2 \\\n",
        "  --reset-optimizer \\\n",
        "  --save-interval 1 --save-interval-updates 5000 --keep-interval-updates 10 --no-epoch-checkpoints \\\n",
        "  --seed 222 --log-format simple --log-interval 2 \\\n",
        "  --save-dir drive/Shareddrives/SiTS/mBart-Finetune/new-experiments/model8/en-sm/checkpoints > drive/Shareddrives/SiTS/mBart-Finetune/new-experiments/model8/en-sm/logs 2>&1 & disown"
      ],
      "execution_count": null,
      "outputs": []
    },
    {
      "cell_type": "code",
      "metadata": {
        "colab": {
          "base_uri": "https://localhost:8080/"
        },
        "id": "ZSQWeHGLiY2l",
        "outputId": "88fa9724-8d8b-465e-a838-148343e66528"
      },
      "source": [
        "!tail -f drive/Shareddrives/SiTS/mBart-Finetune/new-experiments/model8/en-sm/logs"
      ],
      "execution_count": null,
      "outputs": [
        {
          "output_type": "stream",
          "name": "stdout",
          "text": [
            "2021-11-18 13:09:56 | INFO | train_inner | epoch 028:   1224 / 3130 loss=5.717, nll_loss=1.905, ppl=3.74, wps=1054.2, ups=1.12, wpb=938.5, bsz=48, num_updates=19996, lr=1.06077e-05, gnorm=1.807, clip=None, loss_scale=2, train_wall=2, wall=0\n",
            "2021-11-18 13:09:58 | INFO | train_inner | epoch 028:   1226 / 3130 loss=5.658, nll_loss=1.83, ppl=3.56, wps=1345.5, ups=0.9, wpb=1502.5, bsz=72, num_updates=19998, lr=1.06071e-05, gnorm=1.315, clip=None, loss_scale=2, train_wall=2, wall=0\n",
            "2021-11-18 13:10:00 | INFO | train_inner | epoch 028:   1228 / 3130 loss=5.877, nll_loss=2.103, ppl=4.3, wps=1436.8, ups=0.83, wpb=1738, bsz=76, num_updates=20000, lr=1.06066e-05, gnorm=1.365, clip=None, loss_scale=2, train_wall=2, wall=0\n",
            "2021-11-18 13:10:00 | INFO | fairseq_cli.train | begin validation on \"valid\" subset\n",
            "2021-11-18 13:10:16 | INFO | valid | epoch 028 | valid on 'valid' subset | loss 5.871 | nll_loss 1.895 | ppl 3.72 | wps 2967.9 | wpb 482.3 | bsz 20.4 | num_updates 20000 | best_loss 5.871\n",
            "2021-11-18 13:10:16 | INFO | fairseq_cli.train | begin save checkpoint\n",
            "2021-11-18 13:16:41 | INFO | fairseq.checkpoint_utils | saved checkpoint drive/Shareddrives/SiTS/mBart-Finetune/new-experiments/model8/en-sm/checkpoints/checkpoint_28_20000.pt (epoch 28 @ 20000 updates, score 5.871) (writing took 384.44744003899905 seconds)\n",
            "2021-11-18 13:16:41 | INFO | fairseq_cli.train | end of epoch 28 (average epoch stats below)\n",
            "2021-11-18 13:16:41 | INFO | train | epoch 028 | loss 5.527 | nll_loss 1.664 | ppl 3.17 | wps 858 | ups 0.79 | wpb 1089.9 | bsz 44.6 | num_updates 20000 | lr 1.06066e-05 | gnorm 1.702 | clip None | loss_scale 2 | train_wall 1155 | wall 0\n",
            "2021-11-18 13:16:41 | INFO | fairseq_cli.train | done training in 22067.3 seconds\n",
            "^C\n"
          ]
        }
      ]
    },
    {
      "cell_type": "markdown",
      "metadata": {
        "id": "nZ74hcEoeNRe"
      },
      "source": [
        "## **Si - Simplification**"
      ]
    },
    {
      "cell_type": "markdown",
      "metadata": {
        "id": "Cy2W3eVJeNRo"
      },
      "source": [
        "### Import simplification data"
      ]
    },
    {
      "cell_type": "code",
      "metadata": {
        "colab": {
          "base_uri": "https://localhost:8080/"
        },
        "id": "9WtkoOQjeNRo",
        "outputId": "42851839-b08a-47a8-ce36-9464915bd0f0"
      },
      "source": [
        "!gdown --id 1Vm26F4mAU97K7y41ADpmyjvcwhSRvVfE\n",
        "!tar xf newsela-splitted-sineval.tar.gz"
      ],
      "execution_count": null,
      "outputs": [
        {
          "output_type": "stream",
          "name": "stdout",
          "text": [
            "Downloading...\n",
            "From: https://drive.google.com/uc?id=1Vm26F4mAU97K7y41ADpmyjvcwhSRvVfE\n",
            "To: /content/newsela-splitted-sineval.tar.gz\n",
            "100% 6.75M/6.75M [00:00<00:00, 21.5MB/s]\n"
          ]
        }
      ]
    },
    {
      "cell_type": "markdown",
      "metadata": {
        "id": "hlnGx_bWl4hE"
      },
      "source": [
        "### Preprocess data"
      ]
    },
    {
      "cell_type": "code",
      "metadata": {
        "id": "-U9WCayzeNRp"
      },
      "source": [
        "!mkdir drive/Shareddrives/SiTS/mBart-Finetune/new-experiments/model8/si-sm drive/Shareddrives/SiTS/mBart-Finetune/new-experiments/model8/si-sm/spm drive/Shareddrives/SiTS/mBart-Finetune/new-experiments/model8/si-sm/preprocess\n",
        "!python fairseq-0.10.2/scripts/spm_encode.py \\\n",
        "  --model mbart50.pretrained/sentence.bpe.model \\\n",
        "  --inputs newsela-splitted-sineval/train.simple newsela-splitted-sineval/train.complex \\\n",
        "  --outputs drive/Shareddrives/SiTS/mBart-Finetune/new-experiments/model8/si-sm/spm/train.bpe.simple drive/Shareddrives/SiTS/mBart-Finetune/new-experiments/model8/si-sm/spm/train.bpe.complex\n",
        "\n",
        "!python fairseq-0.10.2/scripts/spm_encode.py \\\n",
        "    --model mbart50.pretrained/sentence.bpe.model \\\n",
        "    --inputs newsela-splitted-sineval/valid.simple newsela-splitted-sineval/valid.complex \\\n",
        "    --outputs drive/Shareddrives/SiTS/mBart-Finetune/new-experiments/model8/si-sm/spm/valid.bpe.simple drive/Shareddrives/SiTS/mBart-Finetune/new-experiments/model8/si-sm/spm/valid.bpe.complex\n",
        "\n",
        "!python fairseq-0.10.2/scripts/spm_encode.py \\\n",
        "    --model mbart50.pretrained/sentence.bpe.model \\\n",
        "    --inputs newsela-splitted-sineval/test.simple newsela-splitted-sineval/test.complex \\\n",
        "    --outputs drive/Shareddrives/SiTS/mBart-Finetune/new-experiments/model8/si-sm/spm/test.bpe.simple drive/Shareddrives/SiTS/mBart-Finetune/new-experiments/model8/si-sm/spm/test.bpe.complex\n",
        "\n",
        "DICT_s=\"mbart50.pretrained/dict.si_LK.txt\"\n",
        "\n",
        "!fairseq-preprocess \\\n",
        "  --source-lang complex \\\n",
        "  --target-lang simple \\\n",
        "  --trainpref drive/Shareddrives/SiTS/mBart-Finetune/new-experiments/model8/si-sm/spm/train.bpe \\\n",
        "  --validpref drive/Shareddrives/SiTS/mBart-Finetune/new-experiments/model8/si-sm/spm/valid.bpe \\\n",
        "  --testpref drive/Shareddrives/SiTS/mBart-Finetune/new-experiments/model8/si-sm/spm/test.bpe \\\n",
        "  --destdir drive/Shareddrives/SiTS/mBart-Finetune/new-experiments/model8/si-sm/preprocess \\\n",
        "  --srcdict $DICT_s \\\n",
        "  --joined-dictionary \\\n",
        "  --thresholdtgt 0 \\\n",
        "  --thresholdsrc 0 \\\n",
        "  --workers 70"
      ],
      "execution_count": null,
      "outputs": []
    },
    {
      "cell_type": "markdown",
      "metadata": {
        "id": "kRTlWm0FeNRq"
      },
      "source": [
        "### Start training"
      ]
    },
    {
      "cell_type": "code",
      "metadata": {
        "id": "iFx-cQPIeNRq"
      },
      "source": [
        "path_2_data=\"drive/Shareddrives/SiTS/mBart-Finetune/new-experiments/model8/si-sm/preprocess\"\n",
        "pretrained_model=\"drive/Shareddrives/SiTS/mBart-Finetune/new-experiments/model8/en-sm/checkpoints/checkpoint_last.pt\"\n",
        "last_checkpoint = \"drive/Shareddrives/SiTS/mBart-Finetune/new-experiments/model8/si-sm/checkpoints/checkpoint_last.pt\"\n",
        "\n",
        "!fairseq-train $path_2_data \\\n",
        "  --restore-file $last_checkpoint \\\n",
        "  --encoder-normalize-before --decoder-normalize-before \\\n",
        "  --arch mbart_large --layernorm-embedding \\\n",
        "  --task translation_from_pretrained_bart \\\n",
        "  --langs \"ar_AR,cs_CZ,de_DE,en_XX,es_XX,et_EE,fi_FI,fr_XX,gu_IN,hi_IN,it_IT,ja_XX,kk_KZ,ko_KR,lt_LT,lv_LV,my_MM,ne_NP,nl_XX,ro_RO,ru_RU,si_LK,tr_TR,vi_VN,zh_CN,af_ZA,az_AZ,bn_IN,fa_IR,he_IL,hr_HR,id_ID,ka_GE,km_KH,mk_MK,ml_IN,mn_MN,mr_IN,pl_PL,ps_AF,pt_XX,sv_SE,sw_KE,ta_IN,te_IN,th_TH,tl_XX,uk_UA,ur_PK,xh_ZA,gl_ES,sl_SI\" \\\n",
        "  --source-lang complex --target-lang simple \\\n",
        "  --memory-efficient-fp16 \\\n",
        "  --criterion label_smoothed_cross_entropy --label-smoothing 0.2 \\\n",
        "  --optimizer adam --adam-eps 1e-06 --adam-betas '(0.9, 0.98)' \\\n",
        "  --lr-scheduler inverse_sqrt --lr 3e-05 --warmup-updates 2500 --max-update 10000 \\\n",
        "  --dropout 0.3 --attention-dropout 0.1 --weight-decay 0.0 \\\n",
        "  --max-tokens 1024 --update-freq 2 \\\n",
        "  --reset-optimizer \\\n",
        "  --save-interval 1 --save-interval-updates 2000 --keep-interval-updates 10 --no-epoch-checkpoints \\\n",
        "  --seed 222 --log-format simple --log-interval 2 \\\n",
        "  --save-dir drive/Shareddrives/SiTS/mBart-Finetune/new-experiments/model8/si-sm/checkpoints > drive/Shareddrives/SiTS/mBart-Finetune/new-experiments/model8/si-sm/logs 2>&1 & disown"
      ],
      "execution_count": null,
      "outputs": []
    },
    {
      "cell_type": "code",
      "metadata": {
        "id": "feB2OYieeNRr",
        "colab": {
          "base_uri": "https://localhost:8080/"
        },
        "outputId": "4bb7193d-3efd-454e-83d8-1269b269d45e"
      },
      "source": [
        "!tail -f drive/Shareddrives/SiTS/mBart-Finetune/new-experiments/model8/si-sm/logs"
      ],
      "execution_count": null,
      "outputs": [
        {
          "output_type": "stream",
          "name": "stdout",
          "text": [
            "2021-11-20 06:59:13 | INFO | train_inner | epoch 034:    904 / 3388 loss=6.154, nll_loss=2.422, ppl=5.36, wps=1410, ups=0.96, wpb=1464.5, bsz=40, num_updates=9996, lr=1.5003e-05, gnorm=2.493, clip=None, loss_scale=16, train_wall=2, wall=0\n",
            "2021-11-20 06:59:16 | INFO | train_inner | epoch 034:    906 / 3388 loss=5.848, nll_loss=2.063, ppl=4.18, wps=1325.3, ups=0.92, wpb=1437.5, bsz=52, num_updates=9998, lr=1.50015e-05, gnorm=7.782, clip=None, loss_scale=16, train_wall=2, wall=0\n",
            "2021-11-20 06:59:17 | INFO | train_inner | epoch 034:    908 / 3388 loss=5.95, nll_loss=2.17, ppl=4.5, wps=986.3, ups=1.16, wpb=847.5, bsz=28, num_updates=10000, lr=1.5e-05, gnorm=1.873, clip=None, loss_scale=16, train_wall=2, wall=0\n",
            "2021-11-20 06:59:17 | INFO | fairseq_cli.train | begin validation on \"valid\" subset\n",
            "2021-11-20 06:59:36 | INFO | valid | epoch 034 | valid on 'valid' subset | loss 6.264 | nll_loss 2.27 | ppl 4.82 | wps 3130.9 | wpb 498.6 | bsz 17.2 | num_updates 10000 | best_loss 6.256\n",
            "2021-11-20 06:59:36 | INFO | fairseq_cli.train | begin save checkpoint\n",
            "2021-11-20 07:04:07 | INFO | fairseq.checkpoint_utils | saved checkpoint drive/Shareddrives/SiTS/mBart-Finetune/new-experiments/model8/si-sm/checkpoints/checkpoint_34_10000.pt (epoch 34 @ 10000 updates, score 6.264) (writing took 271.38904115900004 seconds)\n",
            "2021-11-20 07:04:07 | INFO | fairseq_cli.train | end of epoch 34 (average epoch stats below)\n",
            "2021-11-20 07:04:07 | INFO | train | epoch 034 | loss 6.037 | nll_loss 2.291 | ppl 4.89 | wps 825.4 | ups 0.81 | wpb 1019.3 | bsz 35.8 | num_updates 10000 | lr 1.5e-05 | gnorm 1.897 | clip None | loss_scale 16 | train_wall 827 | wall 0\n",
            "2021-11-20 07:04:07 | INFO | fairseq_cli.train | done training in 11952.1 seconds\n",
            "^C\n"
          ]
        }
      ]
    },
    {
      "cell_type": "markdown",
      "metadata": {
        "id": "wVC4DL9QvtTE"
      },
      "source": [
        "## Session Run"
      ]
    },
    {
      "cell_type": "code",
      "metadata": {
        "id": "YsiNeLr7vvvX"
      },
      "source": [
        "!touch test.log"
      ],
      "execution_count": null,
      "outputs": []
    },
    {
      "cell_type": "code",
      "metadata": {
        "colab": {
          "base_uri": "https://localhost:8080/"
        },
        "id": "kDKHF0mxvxpS",
        "outputId": "fee08045-b8bd-4608-b214-0b56dd8c421b"
      },
      "source": [
        "!tail -f test.log"
      ],
      "execution_count": null,
      "outputs": [
        {
          "output_type": "stream",
          "name": "stdout",
          "text": [
            "^C\n"
          ]
        }
      ]
    },
    {
      "cell_type": "code",
      "metadata": {
        "id": "KyqRmoaoImTC",
        "colab": {
          "base_uri": "https://localhost:8080/"
        },
        "outputId": "18b80f42-5a10-4415-a882-45efbe102509"
      },
      "source": [
        "!top"
      ],
      "execution_count": null,
      "outputs": [
        {
          "output_type": "stream",
          "name": "stdout",
          "text": [
            "\u001b[?1h\u001b=\u001b[H\u001b[2J\u001b[mtop - 13:05:56 up  2:18,  0 users,  load average: 0.92, 1.06, 1.26\u001b[m\u001b[m\u001b[m\u001b[m\u001b[K\n",
            "Tasks:\u001b[m\u001b[m\u001b[1m  16 \u001b[m\u001b[mtotal,\u001b[m\u001b[m\u001b[1m   1 \u001b[m\u001b[mrunning,\u001b[m\u001b[m\u001b[1m  15 \u001b[m\u001b[msleeping,\u001b[m\u001b[m\u001b[1m   0 \u001b[m\u001b[mstopped,\u001b[m\u001b[m\u001b[1m   0 \u001b[m\u001b[mzombie\u001b[m\u001b[m\u001b[m\u001b[m\u001b[K\n",
            "%Cpu(s):\u001b[m\u001b[m\u001b[1m 13.3 \u001b[m\u001b[mus,\u001b[m\u001b[m\u001b[1m  7.8 \u001b[m\u001b[msy,\u001b[m\u001b[m\u001b[1m  0.0 \u001b[m\u001b[mni,\u001b[m\u001b[m\u001b[1m 72.4 \u001b[m\u001b[mid,\u001b[m\u001b[m\u001b[1m  6.1 \u001b[m\u001b[mwa,\u001b[m\u001b[m\u001b[1m  0.0 \u001b[m\u001b[mhi,\u001b[m\u001b[m\u001b[1m  0.4 \u001b[m\u001b[msi,\u001b[m\u001b[m\u001b[1m  0.0 \u001b[m\u001b[mst\u001b[m\u001b[m\u001b[m\u001b[m\u001b[K\n",
            "KiB Mem :\u001b[m\u001b[m\u001b[1m 26696424 \u001b[m\u001b[mtotal,\u001b[m\u001b[m\u001b[1m 11627500 \u001b[m\u001b[mfree,\u001b[m\u001b[m\u001b[1m   770296 \u001b[m\u001b[mused,\u001b[m\u001b[m\u001b[1m 14298628 \u001b[m\u001b[mbuff/cache\u001b[m\u001b[m\u001b[m\u001b[m\u001b[K\n",
            "KiB Swap:\u001b[m\u001b[m\u001b[1m        0 \u001b[m\u001b[mtotal,\u001b[m\u001b[m\u001b[1m        0 \u001b[m\u001b[mfree,\u001b[m\u001b[m\u001b[1m        0 \u001b[m\u001b[mused.\u001b[m\u001b[m\u001b[1m 25512112 \u001b[m\u001b[mavail Mem \u001b[m\u001b[m\u001b[m\u001b[m\u001b[K\n",
            "\u001b[K\n",
            "\u001b[7m    PID USER      PR  NI    VIRT    RES    SHR S  %CPU %MEM     TIME+ COMMAND   \u001b[m\u001b[m\u001b[K\n",
            "\u001b[m     88 root      20   0  955464  89476   4976 S   6.7  0.3   0:35.77 python3   \u001b[m\u001b[m\u001b[K\n",
            "\u001b[m      1 root      20   0     992      4      0 S   0.0  0.0   0:00.54 docker-i+ \u001b[m\u001b[m\u001b[K\n",
            "\u001b[m      7 root      20   0  346728  34184   9328 S   0.0  0.1   0:05.17 node      \u001b[m\u001b[m\u001b[K\n",
            "\u001b[m     17 root      20   0   35888   1188     96 S   0.0  0.0   0:00.82 tail      \u001b[m\u001b[m\u001b[K\n",
            "\u001b[m     51 root      20   0  160352  29256   1112 S   0.0  0.1   0:00.29 colab-fi+ \u001b[m\u001b[m\u001b[K\n",
            "\u001b[m     76 root      20   0  194928  49504   3036 S   0.0  0.2   0:06.70 jupyter-+ \u001b[m\u001b[m\u001b[K\n",
            "\u001b[m     77 root      20   0  708340   7888   2364 S   0.0  0.0   0:13.69 dap_mult+ \u001b[m\u001b[m\u001b[K\n",
            "\u001b[m    110 root      20   0  129176  12444   1108 S   0.0  0.0   0:24.17 python3   \u001b[m\u001b[m\u001b[K\n",
            "\u001b[m    144 root      20   0   18380    296      0 S   0.0  0.0   0:00.00 bash      \u001b[m\u001b[m\u001b[K\n",
            "\u001b[m    145 root      20   0 2167348   6856   3336 S   0.0  0.0   0:00.02 drive     \u001b[m\u001b[m\u001b[K\n",
            "\u001b[m    146 root      20   0   11604    588    316 S   0.0  0.0   0:00.04 grep      \u001b[m\u001b[m\u001b[K\n",
            "\u001b[m   1200 root      20   0 2584112 137352  11608 S   0.0  0.5  11:11.75 drive     \u001b[m\u001b[m\u001b[K\n",
            "\u001b[m   1270 root      20   0   18380    564    312 S   0.0  0.0   0:00.00 bash      \u001b[m\u001b[m\u001b[K\n",
            "\u001b[m   1271 root      20   0    4572     64      0 S   0.0  0.0   0:00.26 tail      \u001b[m\u001b[m\u001b[K\n",
            "\u001b[m   1272 root      20   0   31740   4736    648 S   0.0  0.0   0:00.07 python3   \u001b[m\u001b[m\u001b[K\n",
            "\u001b[m\u001b[1m   2330 root      20   0   63184   6376   4656 R   0.0  0.0   0:00.00 top       \u001b[m\u001b[m\u001b[K\n",
            "\u001b[J\u001b[?1l\u001b>\u001b[25;1H\n",
            "\u001b[K"
          ]
        }
      ]
    },
    {
      "cell_type": "code",
      "metadata": {
        "id": "sYj7QvX2Ipmt"
      },
      "source": [
        "!kill 1991"
      ],
      "execution_count": null,
      "outputs": []
    },
    {
      "cell_type": "code",
      "metadata": {
        "id": "alrZOzGvInKL"
      },
      "source": [],
      "execution_count": null,
      "outputs": []
    }
  ]
}
