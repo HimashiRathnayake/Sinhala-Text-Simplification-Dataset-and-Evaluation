{
  "nbformat": 4,
  "nbformat_minor": 0,
  "metadata": {
    "colab": {
      "provenance": [],
      "machine_shape": "hm",
      "include_colab_link": true
    },
    "kernelspec": {
      "name": "python3",
      "display_name": "Python 3"
    },
    "language_info": {
      "name": "python"
    },
    "accelerator": "GPU"
  },
  "cells": [
    {
      "cell_type": "markdown",
      "source": [
        "# **Generate text simplifications using fine-tuned mBART model**"
      ],
      "metadata": {
        "id": "D860_DmzWV3O"
      }
    },
    {
      "cell_type": "markdown",
      "source": [
        "# Mount gdrive"
      ],
      "metadata": {
        "id": "5caC9FDjsVyW"
      }
    },
    {
      "cell_type": "code",
      "source": [
        "from google.colab import drive\n",
        "drive.mount('/content/drive')"
      ],
      "metadata": {
        "colab": {
          "base_uri": "https://localhost:8080/"
        },
        "id": "1B94bavqsXaE",
        "outputId": "2c8c1d30-0092-47b6-f9df-c786f0213600"
      },
      "execution_count": null,
      "outputs": [
        {
          "output_type": "stream",
          "name": "stdout",
          "text": [
            "Mounted at /content/drive\n"
          ]
        }
      ]
    },
    {
      "cell_type": "markdown",
      "source": [
        "# Create required folder structure"
      ],
      "metadata": {
        "id": "y1hD6B9uskUG"
      }
    },
    {
      "cell_type": "code",
      "source": [
        "mkdir model model/preprocess model/spm"
      ],
      "metadata": {
        "id": "J-jvl5ubsk0O"
      },
      "execution_count": null,
      "outputs": []
    },
    {
      "cell_type": "markdown",
      "source": [
        "# Download mBART 50"
      ],
      "metadata": {
        "id": "phxaSJCwspIj"
      }
    },
    {
      "cell_type": "code",
      "source": [
        "!wget https://dl.fbaipublicfiles.com/fairseq/models/mbart50/mbart50.pretrained.tar.gz\n",
        "!tar -xzvf mbart50.pretrained.tar.gz"
      ],
      "metadata": {
        "colab": {
          "base_uri": "https://localhost:8080/"
        },
        "id": "aSddgXQOsq1N",
        "outputId": "8de2aab5-e608-4eab-e91d-6f0465fe42f5"
      },
      "execution_count": null,
      "outputs": [
        {
          "output_type": "stream",
          "name": "stdout",
          "text": [
            "--2022-01-08 13:08:38--  https://dl.fbaipublicfiles.com/fairseq/models/mbart50/mbart50.pretrained.tar.gz\n",
            "Resolving dl.fbaipublicfiles.com (dl.fbaipublicfiles.com)... 104.22.75.142, 104.22.74.142, 172.67.9.4, ...\n",
            "Connecting to dl.fbaipublicfiles.com (dl.fbaipublicfiles.com)|104.22.75.142|:443... connected.\n",
            "HTTP request sent, awaiting response... 200 OK\n",
            "Length: 7199950118 (6.7G) [application/gzip]\n",
            "Saving to: ‘mbart50.pretrained.tar.gz’\n",
            "\n",
            "mbart50.pretrained. 100%[===================>]   6.71G  34.7MB/s    in 3m 15s  \n",
            "\n",
            "2022-01-08 13:11:54 (35.1 MB/s) - ‘mbart50.pretrained.tar.gz’ saved [7199950118/7199950118]\n",
            "\n",
            "mbart50.pretrained/\n",
            "mbart50.pretrained/sentence.bpe.model\n",
            "mbart50.pretrained/dict.af_ZA.txt\n",
            "mbart50.pretrained/dict.ar_AR.txt\n",
            "mbart50.pretrained/dict.az_AZ.txt\n",
            "mbart50.pretrained/dict.bn_IN.txt\n",
            "mbart50.pretrained/dict.cs_CZ.txt\n",
            "mbart50.pretrained/dict.de_DE.txt\n",
            "mbart50.pretrained/dict.en_XX.txt\n",
            "mbart50.pretrained/dict.es_XX.txt\n",
            "mbart50.pretrained/dict.et_EE.txt\n",
            "mbart50.pretrained/dict.fa_IR.txt\n",
            "mbart50.pretrained/dict.fi_FI.txt\n",
            "mbart50.pretrained/dict.fr_XX.txt\n",
            "mbart50.pretrained/dict.gl_ES.txt\n",
            "mbart50.pretrained/dict.gu_IN.txt\n",
            "mbart50.pretrained/dict.he_IL.txt\n",
            "mbart50.pretrained/dict.hi_IN.txt\n",
            "mbart50.pretrained/dict.hr_HR.txt\n",
            "mbart50.pretrained/dict.id_ID.txt\n",
            "mbart50.pretrained/dict.it_IT.txt\n",
            "mbart50.pretrained/dict.iu_CA.txt\n",
            "mbart50.pretrained/dict.ja_JP.txt\n",
            "mbart50.pretrained/dict.ja_XX.txt\n",
            "mbart50.pretrained/dict.ka_GE.txt\n",
            "mbart50.pretrained/dict.kk_KZ.txt\n",
            "mbart50.pretrained/dict.km_KH.txt\n",
            "mbart50.pretrained/dict.ko_KR.txt\n",
            "mbart50.pretrained/dict.lt_LT.txt\n",
            "mbart50.pretrained/dict.lv_LV.txt\n",
            "mbart50.pretrained/dict.mk_MK.txt\n",
            "mbart50.pretrained/dict.ml_IN.txt\n",
            "mbart50.pretrained/dict.mn_MN.txt\n",
            "mbart50.pretrained/dict.mr_IN.txt\n",
            "mbart50.pretrained/dict.my_MM.txt\n",
            "mbart50.pretrained/dict.ne_NP.txt\n",
            "mbart50.pretrained/dict.nl_XX.txt\n",
            "mbart50.pretrained/dict.pl_PL.txt\n",
            "mbart50.pretrained/dict.ps_AF.txt\n",
            "mbart50.pretrained/dict.pt_XX.txt\n",
            "mbart50.pretrained/dict.ro_RO.txt\n",
            "mbart50.pretrained/dict.ru_RU.txt\n",
            "mbart50.pretrained/dict.si_LK.txt\n",
            "mbart50.pretrained/dict.sl_SI.txt\n",
            "mbart50.pretrained/dict.sv_SE.txt\n",
            "mbart50.pretrained/dict.ta_IN.txt\n",
            "mbart50.pretrained/dict.te_IN.txt\n",
            "mbart50.pretrained/dict.th_TH.txt\n",
            "mbart50.pretrained/dict.tr_TR.txt\n",
            "mbart50.pretrained/dict.uk_UA.txt\n",
            "mbart50.pretrained/dict.ur_PK.txt\n",
            "mbart50.pretrained/dict.vi_VN.txt\n",
            "mbart50.pretrained/dict.xh_ZA.txt\n",
            "mbart50.pretrained/dict.zh_CN.txt\n",
            "mbart50.pretrained/model.pt\n",
            "mbart50.pretrained/ML50_langs.txt\n"
          ]
        }
      ]
    },
    {
      "cell_type": "code",
      "source": [
        "!cp mbart50.pretrained/model.pt model/model.pt"
      ],
      "metadata": {
        "id": "zHoA-Q5Iug-8"
      },
      "execution_count": null,
      "outputs": []
    },
    {
      "cell_type": "code",
      "source": [
        "!cp mbart50.pretrained/dict.si_LK.txt model/dict.si_LK.txt"
      ],
      "metadata": {
        "id": "VNgooWQ8u7uA"
      },
      "execution_count": null,
      "outputs": []
    },
    {
      "cell_type": "code",
      "source": [
        "!cp mbart50.pretrained/sentence.bpe.model model/sentence.bpe.model"
      ],
      "metadata": {
        "id": "WXYQ35t-wD-V"
      },
      "execution_count": null,
      "outputs": []
    },
    {
      "cell_type": "markdown",
      "source": [
        "# Install libraries"
      ],
      "metadata": {
        "id": "LwG6glgYvBgo"
      }
    },
    {
      "cell_type": "code",
      "source": [
        "!git clone https://github.com/brainsharks-fyp17/fairseq.git && \\\n",
        "cd fairseq && \\\n",
        "pip install --editable ./ -q\n",
        "!pip install fastBPE sacremoses subword_nmt sentencepiece -q\n",
        "!pip install sacrebleu==1.5.1"
      ],
      "metadata": {
        "colab": {
          "base_uri": "https://localhost:8080/"
        },
        "id": "KvSoWe-rvB_I",
        "outputId": "14da73ce-18b6-4299-e420-a1ea1bf702be"
      },
      "execution_count": null,
      "outputs": [
        {
          "output_type": "stream",
          "name": "stdout",
          "text": [
            "Cloning into 'fairseq'...\n",
            "remote: Enumerating objects: 29383, done.\u001b[K\n",
            "remote: Total 29383 (delta 0), reused 0 (delta 0), pack-reused 29383\u001b[K\n",
            "Receiving objects: 100% (29383/29383), 12.50 MiB | 27.65 MiB/s, done.\n",
            "Resolving deltas: 100% (21999/21999), done.\n",
            "  Installing build dependencies ... \u001b[?25l\u001b[?25hdone\n",
            "  Getting requirements to build wheel ... \u001b[?25l\u001b[?25hdone\n",
            "  Installing backend dependencies ... \u001b[?25l\u001b[?25hdone\n",
            "    Preparing wheel metadata ... \u001b[?25l\u001b[?25hdone\n",
            "\u001b[K     |████████████████████████████████| 90 kB 5.6 MB/s \n",
            "\u001b[K     |████████████████████████████████| 145 kB 28.9 MB/s \n",
            "\u001b[K     |████████████████████████████████| 74 kB 4.4 MB/s \n",
            "\u001b[K     |████████████████████████████████| 112 kB 60.2 MB/s \n",
            "\u001b[K     |████████████████████████████████| 596 kB 64.7 MB/s \n",
            "\u001b[?25h  Building wheel for antlr4-python3-runtime (setup.py) ... \u001b[?25l\u001b[?25hdone\n",
            "\u001b[K     |████████████████████████████████| 895 kB 11.9 MB/s \n",
            "\u001b[K     |████████████████████████████████| 1.2 MB 91.8 MB/s \n",
            "\u001b[?25h  Building wheel for fastBPE (setup.py) ... \u001b[?25l\u001b[?25hdone\n",
            "Collecting sacrebleu==1.5.1\n",
            "  Downloading sacrebleu-1.5.1-py3-none-any.whl (54 kB)\n",
            "\u001b[K     |████████████████████████████████| 54 kB 2.6 MB/s \n",
            "\u001b[?25hCollecting portalocker==2.0.0\n",
            "  Downloading portalocker-2.0.0-py2.py3-none-any.whl (11 kB)\n",
            "Installing collected packages: portalocker, sacrebleu\n",
            "  Attempting uninstall: portalocker\n",
            "    Found existing installation: portalocker 2.3.2\n",
            "    Uninstalling portalocker-2.3.2:\n",
            "      Successfully uninstalled portalocker-2.3.2\n",
            "  Attempting uninstall: sacrebleu\n",
            "    Found existing installation: sacrebleu 2.0.0\n",
            "    Uninstalling sacrebleu-2.0.0:\n",
            "      Successfully uninstalled sacrebleu-2.0.0\n",
            "Successfully installed portalocker-2.0.0 sacrebleu-1.5.1\n"
          ]
        }
      ]
    },
    {
      "cell_type": "code",
      "source": [
        "import os\n",
        "os.environ['PYTHONPATH'] += \":/content/fairseq/\""
      ],
      "metadata": {
        "id": "rNHhXvE5xUIO"
      },
      "execution_count": null,
      "outputs": []
    },
    {
      "cell_type": "markdown",
      "source": [
        "# Download test datasets"
      ],
      "metadata": {
        "id": "tagP3J5svdNt"
      }
    },
    {
      "cell_type": "code",
      "source": [
        "!gdown --id 1JsV5PJAp9BOvjydjC9D5v2o6zB11XFne"
      ],
      "metadata": {
        "colab": {
          "base_uri": "https://localhost:8080/"
        },
        "id": "xDorjlRzvdqp",
        "outputId": "2e0e8515-0400-4766-f0f3-b5dad05e6579"
      },
      "execution_count": null,
      "outputs": [
        {
          "output_type": "stream",
          "name": "stdout",
          "text": [
            "Downloading...\n",
            "From: https://drive.google.com/uc?id=1JsV5PJAp9BOvjydjC9D5v2o6zB11XFne\n",
            "To: /content/complex-1000.txt\n",
            "\r  0% 0.00/600k [00:00<?, ?B/s]\r100% 600k/600k [00:00<00:00, 79.4MB/s]\n"
          ]
        }
      ]
    },
    {
      "cell_type": "code",
      "source": [
        "!gdown --id 1TYUoCngG33T2O0LWGD5iMwSkzNOegPjE"
      ],
      "metadata": {
        "colab": {
          "base_uri": "https://localhost:8080/"
        },
        "id": "yw5VWHzxviAP",
        "outputId": "aa178ca1-934f-4f80-c4d2-92c2b67de9a6"
      },
      "execution_count": null,
      "outputs": [
        {
          "output_type": "stream",
          "name": "stdout",
          "text": [
            "Downloading...\n",
            "From: https://drive.google.com/uc?id=1TYUoCngG33T2O0LWGD5iMwSkzNOegPjE\n",
            "To: /content/simp1000-piyumika2.txt\n",
            "\r  0% 0.00/606k [00:00<?, ?B/s]\r100% 606k/606k [00:00<00:00, 86.7MB/s]\n"
          ]
        }
      ]
    },
    {
      "cell_type": "markdown",
      "source": [
        "# SPM encode"
      ],
      "metadata": {
        "id": "1-oF5hT-vlSQ"
      }
    },
    {
      "cell_type": "code",
      "source": [
        "!python fairseq/scripts/spm_encode.py \\\n",
        "    --model model/sentence.bpe.model \\\n",
        "    --inputs complex-1000.txt \\\n",
        "    --outputs model/spm/test.bpe.si_LK"
      ],
      "metadata": {
        "colab": {
          "base_uri": "https://localhost:8080/"
        },
        "id": "MQJn_mHJvlv7",
        "outputId": "c01788c4-3c5d-41df-8609-2862728fc709"
      },
      "execution_count": null,
      "outputs": [
        {
          "output_type": "stream",
          "name": "stdout",
          "text": [
            "skipped 0 empty lines\n",
            "filtered 0 lines\n"
          ]
        }
      ]
    },
    {
      "cell_type": "markdown",
      "source": [
        "# Preprocess data"
      ],
      "metadata": {
        "id": "1lIqLof2wRfb"
      }
    },
    {
      "cell_type": "code",
      "source": [
        "DICT_s=\"model/dict.si_LK.txt\"\n",
        "\n",
        "!fairseq-preprocess \\\n",
        "  --source-lang \"si_LK\" \\\n",
        "  --target-lang \"si_LK\" \\\n",
        "  --testpref model/spm/test.bpe \\\n",
        "  --destdir model/preprocess \\\n",
        "  --srcdict $DICT_s \\\n",
        "  --joined-dictionary \\\n",
        "  --thresholdtgt 0 \\\n",
        "  --thresholdsrc 0 \\\n",
        "  --workers 70"
      ],
      "metadata": {
        "colab": {
          "base_uri": "https://localhost:8080/"
        },
        "id": "NL3wLxAowTN8",
        "outputId": "4f83b398-8fd1-481c-a673-ab2b4c15c84a"
      },
      "execution_count": null,
      "outputs": [
        {
          "output_type": "stream",
          "name": "stdout",
          "text": [
            "2022-01-08 13:18:38 | INFO | fairseq_cli.preprocess | Namespace(align_suffix=None, alignfile=None, all_gather_list_size=16384, bf16=False, bpe=None, checkpoint_shard_count=1, checkpoint_suffix='', cpu=False, criterion='cross_entropy', dataset_impl='mmap', destdir='model/preprocess', empty_cache_freq=0, fp16=False, fp16_init_scale=128, fp16_no_flatten_grads=False, fp16_scale_tolerance=0.0, fp16_scale_window=None, joined_dictionary=True, log_format=None, log_interval=100, lr_scheduler='fixed', memory_efficient_bf16=False, memory_efficient_fp16=False, min_loss_scale=0.0001, model_parallel_size=1, no_progress_bar=False, nwordssrc=-1, nwordstgt=-1, only_source=False, optimizer=None, padding_factor=8, profile=False, quantization_config_path=None, scoring='bleu', seed=1, source_lang='si_LK', srcdict='model/dict.si_LK.txt', target_lang='si_LK', task='translation', tensorboard_logdir=None, testpref='model/spm/test.bpe', tgtdict=None, threshold_loss_scale=None, thresholdsrc=0, thresholdtgt=0, tokenizer=None, tpu=False, trainpref=None, user_dir=None, validpref=None, workers=70)\n",
            "2022-01-08 13:18:39 | INFO | fairseq_cli.preprocess | [si_LK] Dictionary: 250001 types\n",
            "2022-01-08 13:18:47 | INFO | fairseq_cli.preprocess | [si_LK] model/spm/test.bpe.si_LK: 1000 sents, 65480 tokens, 0.0% replaced by <unk>\n",
            "2022-01-08 13:18:47 | INFO | fairseq_cli.preprocess | [si_LK] Dictionary: 250001 types\n",
            "2022-01-08 13:18:56 | INFO | fairseq_cli.preprocess | [si_LK] model/spm/test.bpe.si_LK: 1000 sents, 65480 tokens, 0.0% replaced by <unk>\n",
            "2022-01-08 13:18:56 | INFO | fairseq_cli.preprocess | Wrote preprocessed data to model/preprocess\n"
          ]
        }
      ]
    },
    {
      "cell_type": "markdown",
      "source": [
        "# Predict simplifications"
      ],
      "metadata": {
        "id": "4KQqesL_xcYk"
      }
    },
    {
      "cell_type": "code",
      "source": [
        "model=\"model/model.pt\"\n",
        "source_lang=\"si_LK\"\n",
        "target_lang=\"si_LK\"\n",
        "path_2_data=\"model/preprocess\"\n",
        "\n",
        "!fairseq-generate \"$path_2_data\" \\\n",
        "  --path \"$model\" \\\n",
        "  --task translation_from_pretrained_bart \\\n",
        "  --gen-subset test \\\n",
        "  --source-lang \"$source_lang\" \\\n",
        "  --target-lang \"$target_lang\" \\\n",
        "  --scoring 'sacrebleu' --remove-bpe 'sentencepiece'\\\n",
        "  --batch-size 32 \\\n",
        "  --langs \"ar_AR,cs_CZ,de_DE,en_XX,es_XX,et_EE,fi_FI,fr_XX,gu_IN,hi_IN,it_IT,ja_XX,kk_KZ,ko_KR,lt_LT,lv_LV,my_MM,ne_NP,nl_XX,ro_RO,ru_RU,si_LK,tr_TR,vi_VN,zh_CN,af_ZA,az_AZ,bn_IN,fa_IR,he_IL,hr_HR,id_ID,ka_GE,km_KH,mk_MK,ml_IN,mn_MN,mr_IN,pl_PL,ps_AF,pt_XX,sv_SE,sw_KE,ta_IN,te_IN,th_TH,tl_XX,uk_UA,ur_PK,xh_ZA,gl_ES,sl_SI\" \\\n",
        "  --beam 5 \\\n",
        "  --nbest 1 \\\n",
        "  --lenpen 1.0 \\\n",
        "  --diverse-beam-groups -1 \\\n",
        "  --diverse-beam-strength 0.5 > result.txt"
      ],
      "metadata": {
        "colab": {
          "base_uri": "https://localhost:8080/"
        },
        "id": "sdzXS8YNxeUW",
        "outputId": "4315a9c4-c430-48e4-e796-1bf0d0617d30"
      },
      "execution_count": null,
      "outputs": [
        {
          "output_type": "stream",
          "name": "stdout",
          "text": [
            "tcmalloc: large alloc 2443517952 bytes == 0x5573f258e000 @  0x7fe61a4fcb6b 0x7fe61a51c379 0x7fe4faf70cde 0x7fe4faf72452 0x7fe54d9e4749 0x7fe5f680dd59 0x5572de97e045 0x5572de93ec52 0x5572de9b1c25 0x5572de9acced 0x5572de93f7f3 0x5572de93f2f9 0x5572dea8635d 0x5572de9f5a0b 0x5572de93e3a1 0x5572dea2fe1d 0x5572de9b1e99 0x5572de9acced 0x5572de87ee2b 0x5572de9aefe4 0x5572de9ac9ee 0x5572de93fbda 0x5572de9ae737 0x5572de9ac9ee 0x5572de93fbda 0x5572de9ad915 0x5572de9ac9ee 0x5572de93fbda 0x5572de9ad915 0x5572de9ac9ee 0x5572de93fbda\n",
            "tcmalloc: large alloc 2443517952 bytes == 0x557483fe0000 @  0x7fe61a4fcb6b 0x7fe61a51c379 0x7fe4faf70cde 0x7fe4faf72452 0x7fe54d9e4749 0x7fe5f680dd59 0x5572de97e045 0x5572de93ec52 0x5572de9b1c25 0x5572de9acced 0x5572de93f7f3 0x5572de93f2f9 0x5572dea8635d 0x5572de9f5a0b 0x5572de93e3a1 0x5572dea2fe1d 0x5572de9b1e99 0x5572de9acced 0x5572de87ee2b 0x5572de9aefe4 0x5572de9ac9ee 0x5572de93fbda 0x5572de9ae737 0x5572de9ac9ee 0x5572de93fbda 0x5572de9ad915 0x5572de9ac9ee 0x5572de93fbda 0x5572de9ad915 0x5572de9ac9ee 0x5572de93fbda\n",
            "  0% 0/32 [00:00<?, ?it/s]/content/fairseq/fairseq/search.py:140: UserWarning: __floordiv__ is deprecated, and its behavior will change in a future version of pytorch. It currently rounds toward 0 (like the 'trunc' function NOT 'floor'). This results in incorrect rounding for negative values. To keep the current behavior, use torch.div(a, b, rounding_mode='trunc'), or for actual floor division, use torch.div(a, b, rounding_mode='floor').\n",
            "  beams_buf = indices_buf // vocab_size\n",
            "/content/fairseq/fairseq/sequence_generator.py:651: UserWarning: __floordiv__ is deprecated, and its behavior will change in a future version of pytorch. It currently rounds toward 0 (like the 'trunc' function NOT 'floor'). This results in incorrect rounding for negative values. To keep the current behavior, use torch.div(a, b, rounding_mode='trunc'), or for actual floor division, use torch.div(a, b, rounding_mode='floor').\n",
            "  unfin_idx = idx // beam_size\n"
          ]
        }
      ]
    },
    {
      "cell_type": "code",
      "source": [
        "cat result.txt | grep -P \"^H\" |sort -V |cut -f 3- > mbart50-simp.txt"
      ],
      "metadata": {
        "id": "fdjniwof3Dje"
      },
      "execution_count": null,
      "outputs": []
    }
  ]
}
